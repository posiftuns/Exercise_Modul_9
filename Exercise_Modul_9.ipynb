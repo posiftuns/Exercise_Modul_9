{
 "cells": [
  {
   "cell_type": "markdown",
   "metadata": {},
   "source": [
    "***\n",
    "<h1 align=\"center\">Exercise Modul 9</h1>\n",
    " \n",
    "***"
   ]
  },
  {
   "cell_type": "markdown",
   "metadata": {},
   "source": [
    "Nama&nbsp;&nbsp;: ... <br>\n",
    "NIM&emsp;&nbsp;: ...<br>\n",
    "Kelas&nbsp;&nbsp;&nbsp;: ..."
   ]
  },
  {
   "cell_type": "markdown",
   "metadata": {},
   "source": [
    "## Mengerjakan Exercise\n",
    " Pengerjaan *exercise* dapat dilakukan dengan memperhatikan petunjuk dan catatan yang sudah diberikan. Dimohon untuk membaca dan memperhatikan setiap langkah dan materi pada *exercise* supaya materi pembelajaran dapat dipahami secara maksimal. Jangan lupa menginstall modul `Tkinter` dan `PIL/Pillow`\n",
    "\n",
    "Selamat mengerjakan!"
   ]
  },
  {
   "cell_type": "markdown",
   "metadata": {},
   "source": [
    "## GUI Menggunakan Tkinter"
   ]
  },
  {
   "cell_type": "markdown",
   "metadata": {},
   "source": [
    "#### **Membuat dan Menampilkan Sebuah Form**"
   ]
  },
  {
   "cell_type": "markdown",
   "metadata": {},
   "source": [
    "Form digunakan untuk menampilkan komponen visual yang sudah dibuat menggunakan \n",
    "Tkinter. Selain itu, dapat juga ditambahkan nama untuk form yang akan dibuat.\n"
   ]
  },
  {
   "cell_type": "code",
   "execution_count": 6,
   "metadata": {},
   "outputs": [],
   "source": [
    "import tkinter as tk\n",
    "\n",
    "mainform=tk.Tk()\n",
    "\n",
    "mainform.wm_title('Nama_Kalian')\n",
    "mainform.mainloop()\n"
   ]
  },
  {
   "cell_type": "markdown",
   "metadata": {},
   "source": [
    "Setelah Tkinter digunakan, close bar bisa digunakan untuk menghentikan program tkinter yang berjalan. Fungsi dari `mainloop` adalah melakukan loop sehingga program Tkinter bisa berjalan terus menerus hingga ditutup.<br> <br> Berikut Expected output:\n",
    "\n"
   ]
  },
  {
   "cell_type": "markdown",
   "metadata": {},
   "source": [
    "![title](1.png)"
   ]
  },
  {
   "cell_type": "markdown",
   "metadata": {},
   "source": [
    "#### **Membuat dan Menempatkan Kontrol di Dalam Form**\n"
   ]
  },
  {
   "cell_type": "markdown",
   "metadata": {},
   "source": [
    "Pertama kita membuat label dan entry pada `mainform`, kemudian button/tombol digunakan untuk memberikan perintah kepada program melalui fungsi yang telah dibuat. \n",
    "\n"
   ]
  },
  {
   "cell_type": "code",
   "execution_count": 9,
   "metadata": {},
   "outputs": [],
   "source": [
    "import tkinter as tk\n",
    "from tkinter import messagebox\n",
    "\n",
    "mainform = tk.__()\n",
    "\n",
    "# Membuat objek berupa label\n",
    "lbl = tk.___(___, text='Masukkan NIM Anda')\n",
    "lbl.pack()\n",
    "\n",
    "# Membuat objek berupa entry\n",
    "ent = tk.___(___, width=50)\n",
    "ent.pack()\n",
    "\n",
    "# Membuat objek button/tombol\n",
    "tombol = tk.___(___, text='Lanjut')\n",
    "tombol.pack()\n",
    "\n",
    "mainform.wm_title('PROGRAM POSI GACOR')\n",
    "mainform.mainloop()"
   ]
  },
  {
   "cell_type": "markdown",
   "metadata": {},
   "source": [
    "Expected Output:"
   ]
  },
  {
   "cell_type": "markdown",
   "metadata": {},
   "source": [
    "![title](2.png)"
   ]
  },
  {
   "cell_type": "markdown",
   "metadata": {},
   "source": [
    "Dalam kasus ini tombol pada program tidak memiliki perintah, sehingga tidak akan terjadi apa-apa jika tombolnya ditekan"
   ]
  },
  {
   "cell_type": "markdown",
   "metadata": {},
   "source": [
    "#### **Event Handling di Dalam Form**\n"
   ]
  },
  {
   "cell_type": "markdown",
   "metadata": {},
   "source": [
    "Perlu dipahami bahwa tombol harus diberikan perintah berupa fungsi agar bisa menjalankan tugasnya. Berikanlah fungsi sederhana supaya program bisa menyapa ketika diberikan input!"
   ]
  },
  {
   "cell_type": "code",
   "execution_count": 40,
   "metadata": {},
   "outputs": [],
   "source": [
    "import tkinter as tk\n",
    "from tkinter import messagebox\n",
    "\n",
    "mainform = tk.Tk()\n",
    "\n",
    "def sapadong():\n",
    "    # Menggunakan format string untuk menggabungkan teks dari entry\n",
    "    teks = 'Haloo {}. Piye kabare?'.format(___.___())\n",
    "    tk.messagebox.showinfo('Ini Output', ___)\n",
    "\n",
    "# Membuat objek berupa label\n",
    "lbl = tk.___(____, text='Masukkan NIM Anda')\n",
    "lbl.pack()\n",
    "\n",
    "# Membuat objek berupa entry\n",
    "ent = tk.___(____, width=50)\n",
    "ent.pack()\n",
    "\n",
    "# Membuat objek button/tombol\n",
    "tombol = tk.___(___, text='Lanjut', command=___)\n",
    "tombol.pack()\n",
    "\n",
    "mainform.wm_title('PROGRAM POSI GACOR')\n",
    "mainform.mainloop()"
   ]
  },
  {
   "cell_type": "markdown",
   "metadata": {},
   "source": [
    "Expected Output:"
   ]
  },
  {
   "cell_type": "markdown",
   "metadata": {},
   "source": [
    "![title](2.png)"
   ]
  },
  {
   "cell_type": "markdown",
   "metadata": {},
   "source": [
    "![title](4.png)"
   ]
  },
  {
   "cell_type": "markdown",
   "metadata": {},
   "source": [
    "#### **Kustomisasi pada Tkinter**\n"
   ]
  },
  {
   "cell_type": "markdown",
   "metadata": {},
   "source": [
    "Dalam Tkinter, layout dari GUI digunakan untuk memudahkan seseorang untuk menggunakan program. Ada beberapa hal yang dapat kita gunakan untuk melakukan kustomisasi pada Tkinter. Contohnya adalah `grid`, penggunaan fungsi `grid` pada Tkinter akan mengubah letak dari UI. Fungsi `pack` yang digunakan kalian sebelumnya pada umumnya akan menggunakan setting default Tkinter.\n"
   ]
  },
  {
   "cell_type": "code",
   "execution_count": 8,
   "metadata": {},
   "outputs": [],
   "source": [
    "import tkinter as tk\n",
    "mainform = tk.Tk()\n",
    "mainform.geometry(\"200x200\")\n",
    "\n",
    "# Membuat objek berupa label\n",
    "lbl = tk.Label(mainform, text='PERTAMA', background=\"maroon\")\n",
    "lbl.grid(row=1, column=1, columnspan=1)\n",
    "\n",
    "lbl = tk.Label(mainform, text='KEDUA', background=\"blue\")\n",
    "lbl.grid(row=2, column=2, columnspan=1)\n",
    "\n",
    "lbl = tk.Label(mainform, text='KETIGA', background=\"red\")\n",
    "lbl.grid(row=3, column=3, columnspan=1)\n",
    "\n",
    "mainform.wm_title('PROGRAM POSI GACOR')\n",
    "mainform.mainloop()"
   ]
  },
  {
   "cell_type": "markdown",
   "metadata": {},
   "source": [
    "**Expected Output:**"
   ]
  },
  {
   "cell_type": "markdown",
   "metadata": {},
   "source": [
    "![title](3.png)"
   ]
  },
  {
   "cell_type": "markdown",
   "metadata": {},
   "source": [
    "Kustomisasi program berikut untuk menghasilkan output dibawah:"
   ]
  },
  {
   "cell_type": "code",
   "execution_count": 1,
   "metadata": {},
   "outputs": [],
   "source": [
    "import tkinter as tk\n",
    "from tkinter import messagebox\n",
    "\n",
    "mainform = tk.Tk()\n",
    "\n",
    "def sapadong():\n",
    "    # Menggunakan format string untuk menggabungkan teks dari entry\n",
    "    teks = 'Nama Saya {}.'.format(___.get())\n",
    "    teks2 = ' NIM {}!'.format(___.get())\n",
    "    tk.messagebox.showinfo('Ini Output', ___ + ____)\n",
    "    \n",
    "# Membuat objek berupa label\n",
    "lbl = tk.___(___, text='NAMA')\n",
    "lbl.___(row=_, column=_, columnspan=_)\n",
    "\n",
    "lbl2 = tk.___(____, text='NIM')\n",
    "lbl2.___(row=__, column=__, columnspan=__)\n",
    "\n",
    "# Membuat objek berupa entry\n",
    "ent = tk.___(___, width=50)\n",
    "ent.___(row=___, column=___, columnspan=___)\n",
    "\n",
    "ent2 = tk.___(___, width=50)\n",
    "ent2.___(row=__, column=___, columnspan=___)\n",
    "\n",
    "# Membuat objek button/tombol\n",
    "tombol = tk.___(____, text='Lanjut', command=____)\n",
    "tombol.___(row=3, column=2, columnspan=1)\n",
    "\n",
    "mainform.wm_title('PROGRAM POSI GACOR')\n",
    "mainform.mainloop()"
   ]
  },
  {
   "cell_type": "markdown",
   "metadata": {},
   "source": [
    "Diatas merupakan contoh penggunaan row dan column pada Tkinter untuk melakukan kustomisasi. Dalam project, kalian bisa dengan bebas melakukan kustomisasi untuk mendapatkan desain GUI yang kalian inginkan."
   ]
  },
  {
   "cell_type": "markdown",
   "metadata": {},
   "source": [
    "![title](7.png)"
   ]
  },
  {
   "cell_type": "markdown",
   "metadata": {},
   "source": [
    "#### **Menampilkan Gambar di Tkinter**\n"
   ]
  },
  {
   "cell_type": "markdown",
   "metadata": {},
   "source": [
    "Dengan bantuan Pillow/PIL, tkinter dapat menampilkan gambar untuk memudahkan kalian dalam merancang sebuah aplikasi. Dengan asset yang sudah kalian buat, UI dapat dikustomisasi dengan mudah."
   ]
  },
  {
   "cell_type": "code",
   "execution_count": 5,
   "metadata": {},
   "outputs": [],
   "source": [
    "import tkinter as tk\n",
    "from PIL import ImageTk,Image\n",
    "\n",
    "mainform = tk.Tk()\n",
    "\n",
    "#membuat variabel gambar\n",
    "image01= ImageTk.PhotoImage(Image.open('00.jpeg'))\n",
    "\n",
    "#membuat label\n",
    "lbl = tk.___(___,text=\"Ini gambar\" )\n",
    "lbl.pack()\n",
    "\n",
    "lbl2 = tk.___(____, image=___)\n",
    "lbl2.pack()\n",
    "\n",
    "\n",
    "\n",
    "mainform.wm_title('PROGRAM POSI GACOR')\n",
    "mainform.mainloop()"
   ]
  },
  {
   "cell_type": "markdown",
   "metadata": {},
   "source": [
    "#### **Kontrol Check Button**\n"
   ]
  },
  {
   "cell_type": "markdown",
   "metadata": {},
   "source": [
    "Kontrol ini digunakan untuk membuat checkbox untuk menampilkan banyak pilihan."
   ]
  },
  {
   "cell_type": "code",
   "execution_count": 11,
   "metadata": {},
   "outputs": [],
   "source": [
    "import tkinter as tk\n",
    "import tkinter.messagebox\n",
    "\n",
    "mainform = tk.Tk()\n",
    "mainform.title(\"Demo Button\")\n",
    "mainform.geometry(\"200x150\")\n",
    "#variabel yang akan dihubungkan\n",
    "var1 = tkinter.__()\n",
    "var2 = tkinter.__()\n",
    "\n",
    "#fungsi lokal\n",
    "def getchoice():\n",
    "    pilihan =[];\n",
    "    if var1.___() == 1: pilihan.___('Nonton Timnas')\n",
    "    if var2.___() == 1: pilihan.___('Main Genshin')\n",
    "    tkinter.messagebox.showinfo(\"informasi\", str(pilihan))\n",
    "    \n",
    "#Kontrol label\n",
    "I= tkinter.___(___, text='Hobi anda:')\n",
    "I.___(row=0, ___=tkinter.W)\n",
    "\n",
    "#membuat kontrol checkbutton\n",
    "c1 = tkinter.___(___, variable=___, text='Nonton Timnas')\n",
    "c1.___ (row=1, ___=tkinter.W)\n",
    "c2 = tkinter.Checkbutton(___, variable=___, text='Main Genshin')\n",
    "c2.___ (row=2, ___=tkinter.W)\n",
    "\n",
    "#membuat kontrol button\n",
    "b1 = tkinter.___(___, text='Ok', command=___, width=10)\n",
    "b1.___(row=4, ___=tkinter.W, padx=4, pady=4)\n",
    "\n",
    "\n",
    "mainform.mainloop()\n",
    "    \n",
    "\n"
   ]
  },
  {
   "cell_type": "markdown",
   "metadata": {},
   "source": [
    "![title](6.png)"
   ]
  },
  {
   "cell_type": "markdown",
   "metadata": {},
   "source": [
    "#### **Variabel Global dan Lambda Pada Tkinter**\n"
   ]
  },
  {
   "cell_type": "markdown",
   "metadata": {},
   "source": [
    "Di Tkinter, fungsi `lambda` dan `variabel global` dapat digunakan untuk mengatasi masalah umum dalam pemrograman antarmuka pengguna, seperti menangani peristiwa (event) dan mengakses data dari berbagai bagian dari program. <br><br>`Lambda` adalah fungsi anonim yang dapat didefinisikan secara langsung dalam kode. Mereka sering digunakan dalam Tkinter untuk menyediakan fungsi sederhana untuk peristiwa (event) seperti tombol diklik, atau item dipilih di daftar. <br><br>`Variabel global` digunakan untuk menyimpan data yang bisa diakses dari berbagai bagian program, termasuk fungsi-fungsi di dalamnya. Dalam konteks Tkinter, `variabel global` bisa berguna untuk menyimpan data yang ingin Anda gunakan di beberapa peristiwa (event) atau fungsi."
   ]
  },
  {
   "cell_type": "code",
   "execution_count": 2,
   "metadata": {},
   "outputs": [
    {
     "ename": "UnboundLocalError",
     "evalue": "local variable 'operator' referenced before assignment",
     "output_type": "error",
     "traceback": [
      "\u001b[1;31m---------------------------------------------------------------------------\u001b[0m",
      "\u001b[1;31mUnboundLocalError\u001b[0m                         Traceback (most recent call last)",
      "Cell \u001b[1;32mIn [2], line 31\u001b[0m\n\u001b[0;32m     27\u001b[0m text_input \u001b[38;5;241m=\u001b[39m tk\u001b[38;5;241m.\u001b[39mStringVar()\n\u001b[0;32m     29\u001b[0m \u001b[38;5;66;03m#membuat tombol\u001b[39;00m\n\u001b[0;32m     30\u001b[0m button_I \u001b[38;5;241m=\u001b[39m tk\u001b[38;5;241m.\u001b[39mButton(mainform, text\u001b[38;5;241m=\u001b[39m\u001b[38;5;124m'\u001b[39m\u001b[38;5;124mI\u001b[39m\u001b[38;5;124m'\u001b[39m,\n\u001b[1;32m---> 31\u001b[0m                   command\u001b[38;5;241m=\u001b[39m\u001b[43mbutton_click\u001b[49m\u001b[43m(\u001b[49m\u001b[38;5;124;43m'\u001b[39;49m\u001b[38;5;124;43mI\u001b[39;49m\u001b[38;5;124;43m'\u001b[39;49m\u001b[43m)\u001b[49m)\u001b[38;5;241m.\u001b[39mgrid(row\u001b[38;5;241m=\u001b[39m\u001b[38;5;241m2\u001b[39m, column\u001b[38;5;241m=\u001b[39m\u001b[38;5;241m1\u001b[39m, sticky\u001b[38;5;241m=\u001b[39m\u001b[38;5;124m\"\u001b[39m\u001b[38;5;124mnsew\u001b[39m\u001b[38;5;124m\"\u001b[39m)\n\u001b[0;32m     32\u001b[0m button_S \u001b[38;5;241m=\u001b[39m tk\u001b[38;5;241m.\u001b[39mButton(mainform, text\u001b[38;5;241m=\u001b[39m\u001b[38;5;124m'\u001b[39m\u001b[38;5;124mS\u001b[39m\u001b[38;5;124m'\u001b[39m,\n\u001b[0;32m     33\u001b[0m                   command\u001b[38;5;241m=\u001b[39mbutton_click(\u001b[38;5;124m'\u001b[39m\u001b[38;5;124mS\u001b[39m\u001b[38;5;124m'\u001b[39m))\u001b[38;5;241m.\u001b[39mgrid(row\u001b[38;5;241m=\u001b[39m\u001b[38;5;241m1\u001b[39m, column\u001b[38;5;241m=\u001b[39m\u001b[38;5;241m0\u001b[39m, sticky\u001b[38;5;241m=\u001b[39m\u001b[38;5;124m\"\u001b[39m\u001b[38;5;124mnsew\u001b[39m\u001b[38;5;124m\"\u001b[39m)\n\u001b[0;32m     34\u001b[0m button_O \u001b[38;5;241m=\u001b[39m tk\u001b[38;5;241m.\u001b[39mButton(mainform, text\u001b[38;5;241m=\u001b[39m\u001b[38;5;124m'\u001b[39m\u001b[38;5;124mO\u001b[39m\u001b[38;5;124m'\u001b[39m,\n\u001b[0;32m     35\u001b[0m                   command\u001b[38;5;241m=\u001b[39mbutton_click(\u001b[38;5;124m'\u001b[39m\u001b[38;5;124mO\u001b[39m\u001b[38;5;124m'\u001b[39m))\u001b[38;5;241m.\u001b[39mgrid(row\u001b[38;5;241m=\u001b[39m\u001b[38;5;241m1\u001b[39m, column\u001b[38;5;241m=\u001b[39m\u001b[38;5;241m1\u001b[39m, sticky\u001b[38;5;241m=\u001b[39m\u001b[38;5;124m\"\u001b[39m\u001b[38;5;124mnsew\u001b[39m\u001b[38;5;124m\"\u001b[39m)\n",
      "Cell \u001b[1;32mIn [2], line 12\u001b[0m, in \u001b[0;36mbutton_click\u001b[1;34m(char)\u001b[0m\n\u001b[0;32m     11\u001b[0m \u001b[38;5;28;01mdef\u001b[39;00m \u001b[38;5;21mbutton_click\u001b[39m(char):\n\u001b[1;32m---> 12\u001b[0m     \u001b[43moperator\u001b[49m\n\u001b[0;32m     13\u001b[0m     operator \u001b[38;5;241m+\u001b[39m\u001b[38;5;241m=\u001b[39m \u001b[38;5;28mstr\u001b[39m(char)\n\u001b[0;32m     14\u001b[0m     text_input\u001b[38;5;241m.\u001b[39mset(operator)\n",
      "\u001b[1;31mUnboundLocalError\u001b[0m: local variable 'operator' referenced before assignment"
     ]
    }
   ],
   "source": [
    "#Jalankan Program Ini\n",
    "import tkinter as tk\n",
    "import tkinter.messagebox\n",
    "\n",
    "#membuat form\n",
    "mainform = tk.Tk()\n",
    "mainform.title(\"Demo Global dan Lambda\")\n",
    "mainform.geometry(\"350x200\")\n",
    "\n",
    "#membuat fungsi\n",
    "def button_click(char):\n",
    "    operator\n",
    "    operator += str(char)\n",
    "    text_input.set(operator)\n",
    "    \n",
    "def button_delete():\n",
    "    operator\n",
    "    text = operator[:-1]\n",
    "    operator = text\n",
    "    text_input.set(text)\n",
    "\n",
    "def enterform():\n",
    "    operator\n",
    "    tk.messagebox.showinfo('Ini Output', operator)\n",
    "\n",
    "#membuat teks input(string)    \n",
    "text_input = tk.StringVar()\n",
    "\n",
    "#membuat tombol\n",
    "button_I = tk.Button(mainform, text='I',\n",
    "                  command=button_click('I')).grid(row=2, column=1, sticky=\"nsew\")\n",
    "button_S = tk.Button(mainform, text='S',\n",
    "                  command=button_click('S')).grid(row=1, column=0, sticky=\"nsew\")\n",
    "button_O = tk.Button(mainform, text='O',\n",
    "                  command=button_click('O')).grid(row=1, column=1, sticky=\"nsew\")\n",
    "button_P = tk.Button(mainform, text='P',\n",
    "                  command=button_click('P')).grid(row=1, column=2, sticky=\"nsew\")\n",
    "\n",
    "delete_one = tk.Button(mainform, command=button_delete, text=\"Hapus\").grid(row=2, column=3)\n",
    "\n",
    "enter = tk.Button(mainform, command=enterform, text=\"Lanjut\").grid(row=1, column=3)\n",
    "\n",
    "#membuat entry\n",
    "text_display = tk.Entry(mainform, font=('sans-serif', 20, 'bold'), textvariable=text_input,\n",
    "                     bd=5, insertwidth = 5, bg='#BBB').grid(columnspan=5, padx = 10, pady = 10)\n",
    "\n",
    "#Variabel Global\n",
    "operator = \"\"\n",
    "\n",
    "mainform.mainloop()"
   ]
  },
  {
   "cell_type": "markdown",
   "metadata": {},
   "source": [
    "Program diatas, operator masih dianggap sebagai variabel local yang tidak terbaca oleh fungsi. Perlu dipahami bahwa pada fungsi, variabel local akan tidak terbaca karena tidak ada argumen. Sehingga pada Tkinter perlu dibuat variabel global yang memungkinkan untuk membuat variabel bisa masuk ke dalam fungsi."
   ]
  },
  {
   "cell_type": "code",
   "execution_count": 3,
   "metadata": {},
   "outputs": [
    {
     "ename": "NameError",
     "evalue": "name 'operator' is not defined",
     "output_type": "error",
     "traceback": [
      "\u001b[1;31m---------------------------------------------------------------------------\u001b[0m",
      "\u001b[1;31mNameError\u001b[0m                                 Traceback (most recent call last)",
      "Cell \u001b[1;32mIn [3], line 31\u001b[0m\n\u001b[0;32m     27\u001b[0m text_input \u001b[38;5;241m=\u001b[39m tk\u001b[38;5;241m.\u001b[39mStringVar()\n\u001b[0;32m     29\u001b[0m \u001b[38;5;66;03m#membuat tombol\u001b[39;00m\n\u001b[0;32m     30\u001b[0m button_I \u001b[38;5;241m=\u001b[39m tk\u001b[38;5;241m.\u001b[39mButton(mainform, text\u001b[38;5;241m=\u001b[39m\u001b[38;5;124m'\u001b[39m\u001b[38;5;124mI\u001b[39m\u001b[38;5;124m'\u001b[39m,\n\u001b[1;32m---> 31\u001b[0m                   command\u001b[38;5;241m=\u001b[39m\u001b[43mbutton_click\u001b[49m\u001b[43m(\u001b[49m\u001b[38;5;124;43m'\u001b[39;49m\u001b[38;5;124;43mI\u001b[39;49m\u001b[38;5;124;43m'\u001b[39;49m\u001b[43m)\u001b[49m)\u001b[38;5;241m.\u001b[39mgrid(row\u001b[38;5;241m=\u001b[39m\u001b[38;5;241m2\u001b[39m, column\u001b[38;5;241m=\u001b[39m\u001b[38;5;241m1\u001b[39m, sticky\u001b[38;5;241m=\u001b[39m\u001b[38;5;124m\"\u001b[39m\u001b[38;5;124mnsew\u001b[39m\u001b[38;5;124m\"\u001b[39m)\n\u001b[0;32m     32\u001b[0m button_S \u001b[38;5;241m=\u001b[39m tk\u001b[38;5;241m.\u001b[39mButton(mainform, text\u001b[38;5;241m=\u001b[39m\u001b[38;5;124m'\u001b[39m\u001b[38;5;124mS\u001b[39m\u001b[38;5;124m'\u001b[39m,\n\u001b[0;32m     33\u001b[0m                   command\u001b[38;5;241m=\u001b[39mbutton_click(\u001b[38;5;124m'\u001b[39m\u001b[38;5;124mS\u001b[39m\u001b[38;5;124m'\u001b[39m))\u001b[38;5;241m.\u001b[39mgrid(row\u001b[38;5;241m=\u001b[39m\u001b[38;5;241m1\u001b[39m, column\u001b[38;5;241m=\u001b[39m\u001b[38;5;241m0\u001b[39m, sticky\u001b[38;5;241m=\u001b[39m\u001b[38;5;124m\"\u001b[39m\u001b[38;5;124mnsew\u001b[39m\u001b[38;5;124m\"\u001b[39m)\n\u001b[0;32m     34\u001b[0m button_O \u001b[38;5;241m=\u001b[39m tk\u001b[38;5;241m.\u001b[39mButton(mainform, text\u001b[38;5;241m=\u001b[39m\u001b[38;5;124m'\u001b[39m\u001b[38;5;124mO\u001b[39m\u001b[38;5;124m'\u001b[39m,\n\u001b[0;32m     35\u001b[0m                   command\u001b[38;5;241m=\u001b[39mbutton_click(\u001b[38;5;124m'\u001b[39m\u001b[38;5;124mO\u001b[39m\u001b[38;5;124m'\u001b[39m))\u001b[38;5;241m.\u001b[39mgrid(row\u001b[38;5;241m=\u001b[39m\u001b[38;5;241m1\u001b[39m, column\u001b[38;5;241m=\u001b[39m\u001b[38;5;241m1\u001b[39m, sticky\u001b[38;5;241m=\u001b[39m\u001b[38;5;124m\"\u001b[39m\u001b[38;5;124mnsew\u001b[39m\u001b[38;5;124m\"\u001b[39m)\n",
      "Cell \u001b[1;32mIn [3], line 13\u001b[0m, in \u001b[0;36mbutton_click\u001b[1;34m(char)\u001b[0m\n\u001b[0;32m     11\u001b[0m \u001b[38;5;28;01mdef\u001b[39;00m \u001b[38;5;21mbutton_click\u001b[39m(char):\n\u001b[0;32m     12\u001b[0m     \u001b[38;5;28;01mglobal\u001b[39;00m operator\n\u001b[1;32m---> 13\u001b[0m     operator \u001b[38;5;241m+\u001b[39m\u001b[38;5;241m=\u001b[39m \u001b[38;5;28mstr\u001b[39m(char)\n\u001b[0;32m     14\u001b[0m     text_input\u001b[38;5;241m.\u001b[39mset(operator)\n",
      "\u001b[1;31mNameError\u001b[0m: name 'operator' is not defined"
     ]
    }
   ],
   "source": [
    "#Jalankan Program Ini\n",
    "import tkinter as tk\n",
    "import tkinter.messagebox\n",
    "\n",
    "#membuat form\n",
    "mainform = tk.Tk()\n",
    "mainform.title(\"Demo Global dan Lambda\")\n",
    "mainform.geometry(\"350x200\")\n",
    "\n",
    "#membuat fungsi\n",
    "def button_click(char):\n",
    "    global operator\n",
    "    operator += str(char)\n",
    "    text_input.set(operator)\n",
    "    \n",
    "def button_delete():\n",
    "    global operator\n",
    "    text = operator[:-1]\n",
    "    operator = text\n",
    "    text_input.set(text)\n",
    "\n",
    "def enterform():\n",
    "    global operator\n",
    "    tk.messagebox.showinfo('Ini Output', operator)\n",
    "\n",
    "#membuat teks input(string)    \n",
    "text_input = tk.StringVar()\n",
    "\n",
    "#membuat tombol\n",
    "button_I = tk.Button(mainform, text='I',\n",
    "                  command=button_click('I')).grid(row=2, column=1, sticky=\"nsew\")\n",
    "button_S = tk.Button(mainform, text='S',\n",
    "                  command=button_click('S')).grid(row=1, column=0, sticky=\"nsew\")\n",
    "button_O = tk.Button(mainform, text='O',\n",
    "                  command=button_click('O')).grid(row=1, column=1, sticky=\"nsew\")\n",
    "button_P = tk.Button(mainform, text='P',\n",
    "                  command=button_click('P')).grid(row=1, column=2, sticky=\"nsew\")\n",
    "\n",
    "delete_one = tk.Button(mainform, command=button_delete, text=\"Hapus\").grid(row=2, column=3)\n",
    "\n",
    "enter = tk.Button(mainform, command=enterform, text=\"Lanjut\").grid(row=1, column=3)\n",
    "\n",
    "#membuat entry\n",
    "text_display = tk.Entry(mainform, font=('sans-serif', 20, 'bold'), textvariable=text_input,\n",
    "                     bd=5, insertwidth = 5, bg='#BBB').grid(columnspan=5, padx = 10, pady = 10)\n",
    "\n",
    "#Variabel Global\n",
    "operator = \"\"\n",
    "\n",
    "mainform.mainloop()"
   ]
  },
  {
   "cell_type": "markdown",
   "metadata": {},
   "source": [
    "Pada program diatas, argumen langsung ke perintah `command` tanpa menggunakan `lambda`, menyebabkan fungsi `button_click` (atau fungsi lain yang digunakan sebagai perintah) dieksekusi segera saat baris kode itu dieksekusi, bukan saat tombol ditekan. Ini disebabkan karena fungsi tersebut dijalankan saat pembuatan tombol, bukan saat tombol diklik. Untuk mengatasi ini, bisa digunakan `lambda` untuk menunda eksekusi fungsi hingga tombol diklik. Dengan cara ini, fungsi akan dipanggil hanya ketika tombol diklik."
   ]
  },
  {
   "cell_type": "code",
   "execution_count": 5,
   "metadata": {},
   "outputs": [],
   "source": [
    "#Jalankan Program Ini\n",
    "import tkinter as tk\n",
    "import tkinter.messagebox\n",
    "\n",
    "#membuat form\n",
    "mainform = tk.Tk()\n",
    "mainform.title(\"Demo Global dan Lambda\")\n",
    "mainform.geometry(\"350x200\")\n",
    "\n",
    "#membuat fungsi\n",
    "def button_click(char):\n",
    "    global operator\n",
    "    if char in operator:\n",
    "        operator += str(\"\")\n",
    "    else:\n",
    "        operator += str(char)\n",
    "    text_input.set(operator)\n",
    "    \n",
    "def button_delete():\n",
    "    global operator\n",
    "    text = operator[:-1]\n",
    "    operator = text\n",
    "    text_input.set(text)\n",
    "\n",
    "def enterform():\n",
    "    global operator\n",
    "    tk.messagebox.showinfo('Ini Output', operator)\n",
    "\n",
    "#membuat teks input(string)    \n",
    "text_input = tk.StringVar()\n",
    "\n",
    "#membuat tombol\n",
    "button_I = tk.Button(mainform, text='I',\n",
    "                  command=lambda:button_click('I')).grid(row=2, column=1, sticky=\"nsew\")\n",
    "button_S = tk.Button(mainform, text='S',\n",
    "                  command=lambda:button_click('S')).grid(row=1, column=0, sticky=\"nsew\")\n",
    "button_O = tk.Button(mainform, text='O',\n",
    "                  command=lambda:button_click('O')).grid(row=1, column=1, sticky=\"nsew\")\n",
    "button_P = tk.Button(mainform, text='P',\n",
    "                  command=lambda:button_click('P')).grid(row=1, column=2, sticky=\"nsew\")\n",
    "\n",
    "delete_one = tk.Button(mainform, command=button_delete, text=\"Hapus\").grid(row=2, column=3)\n",
    "\n",
    "enter = tk.Button(mainform, command=enterform, text=\"Lanjut\").grid(row=1, column=3)\n",
    "\n",
    "#membuat entry\n",
    "text_display = tk.Entry(mainform, font=('sans-serif', 20, 'bold'), textvariable=text_input,\n",
    "                     bd=5, insertwidth = 5, bg='#BBB').grid(columnspan=5, padx = 10, pady = 10)\n",
    "\n",
    "#Variabel Global\n",
    "operator = \"\"\n",
    "\n",
    "mainform.mainloop()"
   ]
  },
  {
   "cell_type": "markdown",
   "metadata": {},
   "source": [
    "![title](5.png)"
   ]
  },
  {
   "cell_type": "markdown",
   "metadata": {},
   "source": [
    "Lanjutkan program diatas sehingga bisa program bisa mengetik kata `POSI GACOR`. Tambahkan juga fungsi delete all sehingga program bisa menghapus semua kata di dalamnya. Untuk UI bebas dan harus rapi. Perlu dipahami bahwa hanya huruf `O` yang dapat diketik 2 kali, tetapi huruf lainnya hanya bisa diketik sekali. <br><br>\n",
    "Berikut merupakan contoh output dari program:"
   ]
  },
  {
   "cell_type": "markdown",
   "metadata": {},
   "source": [
    "![title](9.png)"
   ]
  },
  {
   "cell_type": "code",
   "execution_count": 6,
   "metadata": {},
   "outputs": [],
   "source": [
    "#Dapat diketik disini\n"
   ]
  },
  {
   "cell_type": "markdown",
   "metadata": {},
   "source": [
    "***\n",
    "<h1 align=\"center\">Well Done!!!</h1> \n",
    "\n",
    "***"
   ]
  }
 ],
 "metadata": {
  "kernelspec": {
   "display_name": "Python 3",
   "language": "python",
   "name": "python3"
  },
  "language_info": {
   "codemirror_mode": {
    "name": "ipython",
    "version": 3
   },
   "file_extension": ".py",
   "mimetype": "text/x-python",
   "name": "python",
   "nbconvert_exporter": "python",
   "pygments_lexer": "ipython3",
   "version": "3.10.10"
  }
 },
 "nbformat": 4,
 "nbformat_minor": 2
}
